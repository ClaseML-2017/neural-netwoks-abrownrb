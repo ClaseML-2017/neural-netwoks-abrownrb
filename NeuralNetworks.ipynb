{
 "cells": [
  {
   "cell_type": "markdown",
   "metadata": {},
   "source": [
    "# Neural Networks\n",
    "### Alicia Brown\n",
    "#### 143960"
   ]
  },
  {
   "cell_type": "markdown",
   "metadata": {},
   "source": [
    "### Paquetes necesarios"
   ]
  },
  {
   "cell_type": "code",
   "execution_count": 1,
   "metadata": {},
   "outputs": [],
   "source": [
    "import pandas as pd\n",
    "import numpy as np\n",
    "import csv\n",
    "import random as rnd\n",
    "from sklearn.model_selection import train_test_split\n",
    "import matplotlib.pyplot as plt\n",
    "from sklearn import preprocessing\n",
    "from sklearn.metrics import confusion_matrix\n",
    "%matplotlib inline\n",
    "import tensorflow as tf"
   ]
  },
  {
   "cell_type": "markdown",
   "metadata": {},
   "source": [
    "## Regresión logística (perceptrón con sigmoide)"
   ]
  },
  {
   "cell_type": "markdown",
   "metadata": {},
   "source": [
    "### Función AND"
   ]
  },
  {
   "cell_type": "code",
   "execution_count": 2,
   "metadata": {
    "collapsed": true
   },
   "outputs": [],
   "source": [
    "def AND(x1,x2):\n",
    "    if x1==1 and x2 == 1:\n",
    "        return 1\n",
    "    else:\n",
    "        return 0"
   ]
  },
  {
   "cell_type": "code",
   "execution_count": 3,
   "metadata": {
    "collapsed": true
   },
   "outputs": [],
   "source": [
    "def clasifica(y):\n",
    "    if y >= 0.5:\n",
    "        return 1\n",
    "    else:\n",
    "        return 0"
   ]
  },
  {
   "cell_type": "code",
   "execution_count": 4,
   "metadata": {
    "collapsed": true
   },
   "outputs": [],
   "source": [
    "def salida(w,X):\n",
    "    return X.dot(w[1:])+w[0]"
   ]
  },
  {
   "cell_type": "code",
   "execution_count": 5,
   "metadata": {
    "collapsed": true
   },
   "outputs": [],
   "source": [
    "def entrena(X,y,w,la=0.0,eta=0.01):\n",
    "    for i in range(len(X)):\n",
    "        y_hat=clasifica(salida(w,X[i]))\n",
    "        error=y[i]-y_hat\n",
    "        w[0]=w[0]+eta*(error)\n",
    "        w[1:]=w[1:]+eta*(error*X[i])-la*w[1:]\n",
    "    return w"
   ]
  },
  {
   "cell_type": "code",
   "execution_count": 6,
   "metadata": {
    "collapsed": true
   },
   "outputs": [],
   "source": [
    "def calcError(X,y,w,w0):\n",
    "    return np.mean((X.dot(w)+w0-y)**2)"
   ]
  },
  {
   "cell_type": "markdown",
   "metadata": {},
   "source": [
    "#### Generar datos"
   ]
  },
  {
   "cell_type": "code",
   "execution_count": 7,
   "metadata": {
    "collapsed": true
   },
   "outputs": [],
   "source": [
    "x1=np.random.randint(2, size=10000)\n",
    "x2=np.random.randint(2, size=10000)\n",
    "x1.resize(10000,1)\n",
    "x2.resize(10000,1)\n",
    "X = np.concatenate((x1,x2),axis=1)"
   ]
  },
  {
   "cell_type": "code",
   "execution_count": 8,
   "metadata": {
    "collapsed": true
   },
   "outputs": [],
   "source": [
    "y = []\n",
    "for i in range(len(X)):\n",
    "    y.append(AND(X[i,0],X[i,1]))"
   ]
  },
  {
   "cell_type": "code",
   "execution_count": 9,
   "metadata": {},
   "outputs": [
    {
     "name": "stderr",
     "output_type": "stream",
     "text": [
      "/Library/Frameworks/Python.framework/Versions/2.7/lib/python2.7/site-packages/sklearn/model_selection/_split.py:2010: FutureWarning: From version 0.21, test_size will always complement train_size unless both are specified.\n",
      "  FutureWarning)\n"
     ]
    }
   ],
   "source": [
    "X_train, X_test, Y_train, Y_test = train_test_split(X,y, train_size=0.75)"
   ]
  },
  {
   "cell_type": "code",
   "execution_count": 10,
   "metadata": {
    "collapsed": true
   },
   "outputs": [],
   "source": [
    "X_train=np.asarray(X_train)\n",
    "X_test=np.asarray(X_test)\n",
    "Y_train=np.asarray(Y_train)\n",
    "Y_test=np.asarray(Y_test)"
   ]
  },
  {
   "cell_type": "markdown",
   "metadata": {},
   "source": [
    "#### Prueba"
   ]
  },
  {
   "cell_type": "code",
   "execution_count": 11,
   "metadata": {},
   "outputs": [
    {
     "name": "stdout",
     "output_type": "stream",
     "text": [
      "[ 0.19164033  0.12052725  0.29678875]\n"
     ]
    }
   ],
   "source": [
    "w=np.asarray([rnd.random() for i in range(1+len(X_train[0]))])\n",
    "for i in range(100):\n",
    "    w=entrena(X_train,Y_train,w,la=0.00)\n",
    "print w"
   ]
  },
  {
   "cell_type": "code",
   "execution_count": 12,
   "metadata": {},
   "outputs": [
    {
     "name": "stdout",
     "output_type": "stream",
     "text": [
      "0.131464183479\n",
      "0.132715230722\n"
     ]
    }
   ],
   "source": [
    "print calcError(X_train,Y_train.flatten(),w[1:],w[0])\n",
    "print calcError(X_test,Y_test.flatten(),w[1:],w[0])"
   ]
  },
  {
   "cell_type": "code",
   "execution_count": 13,
   "metadata": {},
   "outputs": [
    {
     "data": {
      "image/png": "[encoded data removed]",
      "text/plain": [
       "<matplotlib.figure.Figure at 0x114120e90>"
      ]
     },
     "metadata": {},
     "output_type": "display_data"
    }
   ],
   "source": [
    "xx1 = -(w[0]-0.5)/w[1]\n",
    "xx2 = -(w[0]-0.5)/w[2]\n",
    "plt.plot([0, xx2], [xx1,0], c='g')   \n",
    "plt.scatter(0,0,c=\"r\")\n",
    "plt.scatter(0,1,c=\"r\")\n",
    "plt.scatter(1,0,c=\"r\")\n",
    "plt.scatter(1,1,c=\"b\")\n",
    "plt.show()"
   ]
  },
  {
   "cell_type": "code",
   "execution_count": 14,
   "metadata": {
    "collapsed": true
   },
   "outputs": [],
   "source": [
    "y_hat = salida(w,X_test)\n",
    "pred = []\n",
    "for i in range(len(y_hat)):\n",
    "    if y_hat[i] >= 0.5:\n",
    "        pred.append(1)\n",
    "    else:\n",
    "        pred.append(0)"
   ]
  },
  {
   "cell_type": "code",
   "execution_count": 15,
   "metadata": {},
   "outputs": [
    {
     "data": {
      "text/plain": [
       "array([[1848,    0],\n",
       "       [   0,  652]])"
      ]
     },
     "execution_count": 15,
     "metadata": {},
     "output_type": "execute_result"
    }
   ],
   "source": [
    "confusion_matrix(Y_test,pred, labels=None, sample_weight=None)"
   ]
  },
  {
   "cell_type": "markdown",
   "metadata": {},
   "source": [
    "### Función XOR"
   ]
  },
  {
   "cell_type": "code",
   "execution_count": 16,
   "metadata": {
    "collapsed": true
   },
   "outputs": [],
   "source": [
    "def XOR(x1,x2):\n",
    "    if (x1==x2):\n",
    "        return 0\n",
    "    else:\n",
    "        return 1"
   ]
  },
  {
   "cell_type": "markdown",
   "metadata": {},
   "source": [
    "#### Generar datos"
   ]
  },
  {
   "cell_type": "code",
   "execution_count": 17,
   "metadata": {
    "collapsed": true
   },
   "outputs": [],
   "source": [
    "y2 = []\n",
    "for i in range(len(X)):\n",
    "    y2.append(XOR(X[i,0],X[i,1]))"
   ]
  },
  {
   "cell_type": "code",
   "execution_count": 18,
   "metadata": {},
   "outputs": [],
   "source": [
    "X_train2, X_test2, Y_train2, Y_test2 = train_test_split(X,y2, train_size=0.75)"
   ]
  },
  {
   "cell_type": "code",
   "execution_count": 19,
   "metadata": {
    "collapsed": true
   },
   "outputs": [],
   "source": [
    "X_train2=np.asarray(X_train2)\n",
    "X_test2=np.asarray(X_test2)\n",
    "Y_train2=np.asarray(Y_train2)\n",
    "Y_test2=np.asarray(Y_test2)"
   ]
  },
  {
   "cell_type": "code",
   "execution_count": 20,
   "metadata": {},
   "outputs": [
    {
     "name": "stdout",
     "output_type": "stream",
     "text": [
      "[[0 1]\n",
      " [0 1]\n",
      " [1 0]\n",
      " ..., \n",
      " [0 1]\n",
      " [0 1]\n",
      " [1 1]] [1 1 1 ..., 1 1 0]\n"
     ]
    }
   ],
   "source": [
    "print X_train2, Y_train2"
   ]
  },
  {
   "cell_type": "markdown",
   "metadata": {},
   "source": [
    "#### Prueba"
   ]
  },
  {
   "cell_type": "code",
   "execution_count": 21,
   "metadata": {},
   "outputs": [
    {
     "name": "stdout",
     "output_type": "stream",
     "text": [
      "[ 0.49973615 -0.00587684 -0.00457478]\n"
     ]
    }
   ],
   "source": [
    "w2=np.asarray([rnd.random() for i in range(1+len(X_train2[0]))])\n",
    "for i in range(100):\n",
    "    w2=entrena(X_train2,Y_train2,w2,la=0.00)\n",
    "print w2"
   ]
  },
  {
   "cell_type": "code",
   "execution_count": 22,
   "metadata": {},
   "outputs": [
    {
     "name": "stdout",
     "output_type": "stream",
     "text": [
      "0.249912161407\n",
      "0.250184840922\n"
     ]
    }
   ],
   "source": [
    "print calcError(X_train2,Y_train2,w2[1:],w2[0])\n",
    "print calcError(X_test2,Y_test2,w2[1:],w2[0])"
   ]
  },
  {
   "cell_type": "code",
   "execution_count": 23,
   "metadata": {},
   "outputs": [
    {
     "data": {
      "image/png": "[encoded data removed]",
      "text/plain": [
       "<matplotlib.figure.Figure at 0x114120690>"
      ]
     },
     "metadata": {},
     "output_type": "display_data"
    }
   ],
   "source": [
    "xxx1 = -(w2[0]-0.5)/w2[1]\n",
    "xxx2 = -(w2[0]-0.5)/w2[2]\n",
    "plt.plot([0, xxx2], [xxx1,0], c='g')   \n",
    "plt.scatter(0,0,c=\"r\")\n",
    "plt.scatter(0,1,c=\"b\")\n",
    "plt.scatter(1,0,c=\"b\")\n",
    "plt.scatter(1,1,c=\"r\")\n",
    "plt.show()"
   ]
  },
  {
   "cell_type": "code",
   "execution_count": 24,
   "metadata": {
    "collapsed": true
   },
   "outputs": [],
   "source": [
    "y_hat2 = salida(w2,X_test2)\n",
    "pred2 = []\n",
    "for i in range(len(y_hat2)):\n",
    "    if y_hat2[i] >= 0.5:\n",
    "        pred2.append(1)\n",
    "    else:\n",
    "        pred2.append(0)"
   ]
  },
  {
   "cell_type": "code",
   "execution_count": 25,
   "metadata": {},
   "outputs": [
    {
     "data": {
      "text/plain": [
       "array([[1241,    0],\n",
       "       [1259,    0]])"
      ]
     },
     "execution_count": 25,
     "metadata": {},
     "output_type": "execute_result"
    }
   ],
   "source": [
    "confusion_matrix(Y_test2,pred2, labels=None, sample_weight=None)"
   ]
  },
  {
   "cell_type": "markdown",
   "metadata": {},
   "source": [
    "### ANN para función XOR"
   ]
  },
  {
   "cell_type": "code",
   "execution_count": 47,
   "metadata": {},
   "outputs": [],
   "source": [
    "x = tf.placeholder(tf.float32, [None, 2])\n",
    "y = tf.placeholder(tf.float32, [None, 1])\n",
    "W1 = tf.Variable(tf.random_uniform([2, 2], -1, 1))\n",
    "b1 = tf.Variable(tf.zeros([2]))\n",
    "W2 = tf.Variable(tf.random_uniform([2, 1], -1, 1))\n",
    "b2 = tf.Variable(tf.zeros([1]))"
   ]
  },
  {
   "cell_type": "code",
   "execution_count": 48,
   "metadata": {
    "collapsed": true
   },
   "outputs": [],
   "source": [
    "h = tf.nn.sigmoid(tf.matmul(x, W1) + b1)\n",
    "yhat = tf.nn.sigmoid(tf.matmul(h, W2) + b2)\n",
    "ecm = tf.reduce_mean(tf.reduce_sum(tf.square(y - yhat)))\n",
    "train_step = tf.train.GradientDescentOptimizer(0.01).minimize(ecm)"
   ]
  },
  {
   "cell_type": "code",
   "execution_count": 49,
   "metadata": {
    "collapsed": true
   },
   "outputs": [],
   "source": [
    "X = np.asarray([[0,0], [0,1], [1,0], [1,1]])\n",
    "Y = np.asarray([[0], [1], [1], [0]])"
   ]
  },
  {
   "cell_type": "code",
   "execution_count": 50,
   "metadata": {
    "collapsed": true
   },
   "outputs": [],
   "source": [
    "sess = tf.InteractiveSession()\n",
    "tf.global_variables_initializer().run()\n",
    "for k in range(100000):\n",
    "    sess.run(train_step, feed_dict={x: X, y: Y})"
   ]
  },
  {
   "cell_type": "code",
   "execution_count": 51,
   "metadata": {},
   "outputs": [
    {
     "name": "stdout",
     "output_type": "stream",
     "text": [
      "1.0\n"
     ]
    }
   ],
   "source": [
    "correct_prediction = tf.equal(tf.round(yhat), y)\n",
    "accuracy = tf.reduce_mean(tf.cast(correct_prediction, tf.float32))\n",
    "print(sess.run(accuracy, feed_dict={x: X, y: Y}))"
   ]
  },
  {
   "cell_type": "code",
   "execution_count": 32,
   "metadata": {},
   "outputs": [
    {
     "name": "stdout",
     "output_type": "stream",
     "text": [
      "yhat  [[ 0.03083263]\n",
      " [ 0.96534836]\n",
      " [ 0.97065955]\n",
      " [ 0.02738982]]\n",
      "W1  [[ 5.9874444   5.08923149]\n",
      " [-5.91412783 -5.31059027]]\n",
      "b1  [ 3.03332114 -2.75796795]\n",
      "W2  [[-8.08554363]\n",
      " [ 8.59052658]]\n",
      "b2  [ 3.75388169]\n",
      "Error  0.00376245\n"
     ]
    }
   ],
   "source": [
    "yhat_ = [sess.run(yhat, feed_dict={x: X, y: Y})][0]\n",
    "W1_ = [sess.run(W1)][0]\n",
    "b1_ = [sess.run(b1)][0]\n",
    "W2_ = [sess.run(W2)][0]\n",
    "b2_ = [sess.run(b2)][0]\n",
    "err_ = [sess.run(ecm, feed_dict={x: X, y: Y})][0]\n",
    "print 'yhat ', yhat_\n",
    "print 'W1 ', W1_\n",
    "print 'b1 ', b1_\n",
    "print 'W2 ', W2_\n",
    "print 'b2 ', b2_\n",
    "print 'Error ', err_"
   ]
  },
  {
   "cell_type": "code",
   "execution_count": 62,
   "metadata": {},
   "outputs": [
    {
     "data": {
      "image/png": "[encoded data removed]",
      "text/plain": [
       "<matplotlib.figure.Figure at 0x114aaae50>"
      ]
     },
     "metadata": {},
     "output_type": "display_data"
    }
   ],
   "source": [
    "xs = np.linspace(-2, 2,25)\n",
    "ys = np.linspace(-2, 2,25)\n",
    "pred_classes = []\n",
    "for i in xs:\n",
    "    for j in ys:\n",
    "        pred_class = sess.run(yhat, feed_dict={x: [[i, j]]})\n",
    "        pred_classes.append((i, j, np.around(pred_class)))\n",
    "xs_p, ys_p = [], []\n",
    "xs_n, ys_n = [], []\n",
    "for i, j, c in pred_classes:\n",
    "    if c == 0.:\n",
    "        xs_n.append(i)\n",
    "        ys_n.append(j)\n",
    "    else:\n",
    "        xs_p.append(i)\n",
    "        ys_p.append(j)\n",
    "plt.plot(xs_p, ys_p, 'go', xs_n, ys_n, 'bo', X[:,0], X[:,1], 'ko')\n",
    "plt.show()"
   ]
  },
  {
   "cell_type": "markdown",
   "metadata": {},
   "source": [
    "### ANN para puntos dentro del círculo"
   ]
  },
  {
   "cell_type": "code",
   "execution_count": 63,
   "metadata": {
    "collapsed": true
   },
   "outputs": [],
   "source": [
    "sess = tf.InteractiveSession()\n",
    "tf.global_variables_initializer().run()\n",
    "x = tf.placeholder(tf.float32, [None, 2])\n",
    "y = tf.placeholder(tf.float32, [None, 1])\n",
    "W1 = tf.Variable(tf.random_uniform([2, 3], -1, 1))\n",
    "b1 = tf.Variable(tf.zeros([1, 3]))\n",
    "W2 = tf.Variable(tf.random_uniform([3, 1], -1, 1))\n",
    "b2 = tf.Variable(tf.zeros([1, 1]))"
   ]
  },
  {
   "cell_type": "code",
   "execution_count": 64,
   "metadata": {
    "collapsed": true
   },
   "outputs": [],
   "source": [
    "h = tf.nn.sigmoid(tf.matmul(x, W1) + b1)\n",
    "yhat = tf.nn.sigmoid(tf.matmul(h, W2) + b2)\n",
    "ecm = tf.reduce_mean(tf.reduce_sum(tf.square(y - yhat)))\n",
    "train_step = tf.train.GradientDescentOptimizer(0.03).minimize(ecm)"
   ]
  },
  {
   "cell_type": "code",
   "execution_count": 65,
   "metadata": {
    "collapsed": true
   },
   "outputs": [],
   "source": [
    "n = 1000\n",
    "X1 = np.resize(np.random.uniform(-2, 2, n), (n,1))\n",
    "X2 = np.resize(np.random.uniform(-2, 2, n), (n,1))"
   ]
  },
  {
   "cell_type": "code",
   "execution_count": 66,
   "metadata": {
    "collapsed": true
   },
   "outputs": [],
   "source": [
    "def circulo(X1, X2):\n",
    "    if X1*X1 + X2*X2 < 1:\n",
    "        return 1\n",
    "    else:\n",
    "        return 0"
   ]
  },
  {
   "cell_type": "code",
   "execution_count": 67,
   "metadata": {
    "collapsed": true
   },
   "outputs": [],
   "source": [
    "X = np.concatenate((X1, X2), axis = 1)\n",
    "Y = np.resize([circ(X1[i], X2[i]) for i in range(len(X1))], (n,1))"
   ]
  },
  {
   "cell_type": "code",
   "execution_count": 68,
   "metadata": {
    "collapsed": true
   },
   "outputs": [],
   "source": [
    "sess = tf.InteractiveSession()\n",
    "tf.global_variables_initializer().run()\n",
    "for k in range(10000):\n",
    "    sess.run(train_step, feed_dict={x: X, y: Y})"
   ]
  },
  {
   "cell_type": "code",
   "execution_count": 69,
   "metadata": {},
   "outputs": [
    {
     "name": "stdout",
     "output_type": "stream",
     "text": [
      "0.965\n"
     ]
    }
   ],
   "source": [
    "correct_prediction = tf.equal(tf.round(yhat), y)\n",
    "accuracy = tf.reduce_mean(tf.cast(correct_prediction, tf.float32))\n",
    "print(sess.run(accuracy, feed_dict={x: X, y: Y}))"
   ]
  },
  {
   "cell_type": "code",
   "execution_count": 72,
   "metadata": {},
   "outputs": [
    {
     "data": {
      "image/png": "[encoded data removed]",
      "text/plain": [
       "<matplotlib.figure.Figure at 0x116e936d0>"
      ]
     },
     "metadata": {},
     "output_type": "display_data"
    }
   ],
   "source": [
    "xs = np.linspace(-2, 2,30)\n",
    "ys = np.linspace(-2, 2,30)\n",
    "pred_classes = []\n",
    "for i in xs:\n",
    "    for j in ys:\n",
    "        pred_class = sess.run(yhat, feed_dict={x: [[i, j]]})\n",
    "        pred_classes.append((i, j, np.around(pred_class)))\n",
    "xs_p, ys_p = [], []\n",
    "xs_n, ys_n = [], []\n",
    "for i, j, c in pred_classes:\n",
    "    if c == 0.:\n",
    "        xs_n.append(i)\n",
    "        ys_n.append(j)\n",
    "    else:\n",
    "        xs_p.append(i)\n",
    "        ys_p.append(j)\n",
    "plt.plot(xs_p, ys_p, 'go', xs_n, ys_n, 'bo')\n",
    "plt.show()"
   ]
  },
  {
   "cell_type": "code",
   "execution_count": null,
   "metadata": {
    "collapsed": true
   },
   "outputs": [],
   "source": []
  }
 ],
 "metadata": {
  "kernelspec": {
   "display_name": "Python 2",
   "language": "python",
   "name": "python2"
  },
  "language_info": {
   "codemirror_mode": {
    "name": "ipython",
    "version": 2
   },
   "file_extension": ".py",
   "mimetype": "text/x-python",
   "name": "python",
   "nbconvert_exporter": "python",
   "pygments_lexer": "ipython2",
   "version": "2.7.13"
  }
 },
 "nbformat": 4,
 "nbformat_minor": 2
}
